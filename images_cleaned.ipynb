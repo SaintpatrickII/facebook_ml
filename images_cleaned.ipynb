{
 "cells": [
  {
   "cell_type": "code",
   "execution_count": 1,
   "metadata": {},
   "outputs": [],
   "source": [
    "import glob\n",
    "from PIL import Image\n",
    "\n",
    "images = '/Users/paddy/Desktop/AiCore/facebook_ml/images_raw'\n",
    "images_path = '/Users/paddy/Desktop/AiCore/facebook_ml/Images'\n",
    "images_dict = '/Users/paddy/Desktop/AiCore/facebook_ml/images_table.json'"
   ]
  },
  {
   "cell_type": "code",
   "execution_count": 2,
   "metadata": {},
   "outputs": [],
   "source": [
    "image_list = glob.glob(f'{images}/*.jpg')\n",
    "img1 = Image.open(image_list[0])\n",
    "# shoot\n",
    "#df"
   ]
  },
  {
   "cell_type": "code",
   "execution_count": 3,
   "metadata": {},
   "outputs": [
    {
     "data": {
      "text/plain": [
       "(768, 1024)"
      ]
     },
     "execution_count": 3,
     "metadata": {},
     "output_type": "execute_result"
    }
   ],
   "source": [
    "img1.size"
   ]
  },
  {
   "cell_type": "code",
   "execution_count": 12,
   "metadata": {},
   "outputs": [
    {
     "name": "stdout",
     "output_type": "stream",
     "text": [
      "<PIL.Image.Image image mode=RGB size=512x512 at 0x7FE40FE07D00>\n",
      "<PIL.Image.Image image mode=RGB size=512x512 at 0x7FE40FD881C0>\n",
      "<PIL.Image.Image image mode=RGB size=512x512 at 0x7FE40FD881C0>\n",
      "<PIL.Image.Image image mode=RGB size=512x512 at 0x7FE41059DAF0>\n",
      "<PIL.Image.Image image mode=RGB size=512x384 at 0x7FE41059DAF0>\n",
      "<PIL.Image.Image image mode=RGB size=512x512 at 0x7FE40FE073D0>\n",
      "<PIL.Image.Image image mode=RGB size=505x512 at 0x7FE40FE073D0>\n",
      "<PIL.Image.Image image mode=RGB size=512x512 at 0x7FE40EABC280>\n",
      "<PIL.Image.Image image mode=RGB size=384x512 at 0x7FE41059DAF0>\n",
      "<PIL.Image.Image image mode=RGB size=512x512 at 0x7FE40FD881C0>\n",
      "<PIL.Image.Image image mode=RGB size=384x512 at 0x7FE40FD881C0>\n",
      "<PIL.Image.Image image mode=RGB size=512x512 at 0x7FE410004A60>\n",
      "<PIL.Image.Image image mode=RGB size=384x512 at 0x7FE410004A60>\n",
      "<PIL.Image.Image image mode=RGB size=512x512 at 0x7FE4100045B0>\n",
      "<PIL.Image.Image image mode=RGB size=384x512 at 0x7FE40FD881C0>\n",
      "<PIL.Image.Image image mode=RGB size=512x512 at 0x7FE40EAA8D30>\n",
      "<PIL.Image.Image image mode=RGB size=384x512 at 0x7FE410004A60>\n",
      "<PIL.Image.Image image mode=RGB size=512x512 at 0x7FE4100045B0>\n",
      "<PIL.Image.Image image mode=RGB size=512x236 at 0x7FE4100045B0>\n",
      "<PIL.Image.Image image mode=RGB size=512x512 at 0x7FE40FE073D0>\n",
      "<PIL.Image.Image image mode=RGB size=236x512 at 0x7FE40FE073D0>\n",
      "<PIL.Image.Image image mode=RGB size=512x512 at 0x7FE40EABC2E0>\n",
      "<PIL.Image.Image image mode=RGB size=512x384 at 0x7FE410004A60>\n",
      "<PIL.Image.Image image mode=RGB size=512x512 at 0x7FE40FD881C0>\n",
      "<PIL.Image.Image image mode=RGB size=512x368 at 0x7FE40FD881C0>\n",
      "<PIL.Image.Image image mode=RGB size=512x512 at 0x7FE41059DAF0>\n",
      "<PIL.Image.Image image mode=RGB size=512x470 at 0x7FE41059DAF0>\n",
      "<PIL.Image.Image image mode=RGB size=512x512 at 0x7FE40FE073D0>\n",
      "<PIL.Image.Image image mode=RGB size=384x512 at 0x7FE40FE073D0>\n",
      "<PIL.Image.Image image mode=RGB size=512x512 at 0x7FE40EAA8D30>\n",
      "<PIL.Image.Image image mode=RGB size=512x512 at 0x7FE40EAA8D30>\n",
      "<PIL.Image.Image image mode=RGB size=512x512 at 0x7FE410004A60>\n",
      "<PIL.Image.Image image mode=RGB size=384x512 at 0x7FE410004A60>\n",
      "<PIL.Image.Image image mode=RGB size=512x512 at 0x7FE4100045B0>\n",
      "<PIL.Image.Image image mode=RGB size=384x512 at 0x7FE4100045B0>\n",
      "<PIL.Image.Image image mode=RGB size=512x512 at 0x7FE41059DAF0>\n",
      "<PIL.Image.Image image mode=RGB size=512x341 at 0x7FE41059DAF0>\n",
      "<PIL.Image.Image image mode=RGB size=512x512 at 0x7FE40FE073D0>\n",
      "<PIL.Image.Image image mode=RGB size=384x512 at 0x7FE40FE073D0>\n",
      "<PIL.Image.Image image mode=RGB size=512x512 at 0x7FE4100045B0>\n",
      "<PIL.Image.Image image mode=RGB size=288x512 at 0x7FE4100045B0>\n",
      "<PIL.Image.Image image mode=RGB size=512x512 at 0x7FE410004A60>\n",
      "<PIL.Image.Image image mode=RGB size=384x512 at 0x7FE410004A60>\n",
      "<PIL.Image.Image image mode=RGB size=512x512 at 0x7FE40FE073D0>\n",
      "<PIL.Image.Image image mode=RGB size=384x512 at 0x7FE40FE073D0>\n",
      "<PIL.Image.Image image mode=RGB size=512x512 at 0x7FE4100045B0>\n",
      "<PIL.Image.Image image mode=RGB size=288x512 at 0x7FE4100045B0>\n",
      "<PIL.Image.Image image mode=RGB size=512x512 at 0x7FE40EAA8D30>\n",
      "<PIL.Image.Image image mode=RGB size=384x512 at 0x7FE40EAA8D30>\n",
      "<PIL.Image.Image image mode=RGB size=512x512 at 0x7FE410004A60>\n",
      "<PIL.Image.Image image mode=RGB size=395x512 at 0x7FE40EABC280>\n",
      "<PIL.Image.Image image mode=RGB size=512x512 at 0x7FE40EABC400>\n",
      "<PIL.Image.Image image mode=RGB size=512x510 at 0x7FE40EAA8D30>\n",
      "<PIL.Image.Image image mode=RGB size=512x512 at 0x7FE4100045B0>\n",
      "<PIL.Image.Image image mode=RGB size=384x512 at 0x7FE4100045B0>\n",
      "<PIL.Image.Image image mode=RGB size=512x512 at 0x7FE40EABC2E0>\n",
      "<PIL.Image.Image image mode=RGB size=384x512 at 0x7FE40EAA8D30>\n",
      "<PIL.Image.Image image mode=RGB size=512x512 at 0x7FE40EABC280>\n",
      "<PIL.Image.Image image mode=RGB size=384x512 at 0x7FE40FE14220>\n",
      "<PIL.Image.Image image mode=RGB size=512x512 at 0x7FE40FE14280>\n",
      "<PIL.Image.Image image mode=RGB size=384x512 at 0x7FE40EAA8D30>\n",
      "<PIL.Image.Image image mode=RGB size=512x512 at 0x7FE40FE140A0>\n",
      "<PIL.Image.Image image mode=RGB size=309x512 at 0x7FE410004A60>\n",
      "<PIL.Image.Image image mode=RGB size=512x512 at 0x7FE4100045B0>\n",
      "<PIL.Image.Image image mode=RGB size=512x384 at 0x7FE4100045B0>\n",
      "<PIL.Image.Image image mode=RGB size=512x512 at 0x7FE40FE141F0>\n",
      "<PIL.Image.Image image mode=RGB size=384x512 at 0x7FE40EAA8D30>\n",
      "<PIL.Image.Image image mode=RGB size=512x512 at 0x7FE410004A60>\n",
      "<PIL.Image.Image image mode=RGB size=384x512 at 0x7FE410004A60>\n",
      "<PIL.Image.Image image mode=RGB size=512x512 at 0x7FE40FE14100>\n",
      "<PIL.Image.Image image mode=RGB size=384x512 at 0x7FE40EAA8D30>\n",
      "<PIL.Image.Image image mode=RGB size=512x512 at 0x7FE4100045B0>\n",
      "<PIL.Image.Image image mode=RGB size=248x512 at 0x7FE4100045B0>\n",
      "<PIL.Image.Image image mode=RGB size=512x512 at 0x7FE40FE142B0>\n",
      "<PIL.Image.Image image mode=RGB size=455x512 at 0x7FE40EAA8D30>\n",
      "<PIL.Image.Image image mode=RGB size=512x512 at 0x7FE410004A60>\n",
      "<PIL.Image.Image image mode=RGB size=348x512 at 0x7FE40FE140A0>\n",
      "<PIL.Image.Image image mode=RGB size=512x512 at 0x7FE40FE14130>\n",
      "<PIL.Image.Image image mode=RGB size=256x512 at 0x7FE40EABC2E0>\n",
      "<PIL.Image.Image image mode=RGB size=512x512 at 0x7FE40EABC280>\n",
      "<PIL.Image.Image image mode=RGB size=512x384 at 0x7FE40EAA8D30>\n",
      "<PIL.Image.Image image mode=RGB size=512x512 at 0x7FE4100045B0>\n",
      "<PIL.Image.Image image mode=RGB size=512x384 at 0x7FE4100045B0>\n",
      "<PIL.Image.Image image mode=RGB size=512x512 at 0x7FE40EABC280>\n",
      "<PIL.Image.Image image mode=RGB size=512x512 at 0x7FE40EABC280>\n",
      "<PIL.Image.Image image mode=RGB size=512x512 at 0x7FE40EABC400>\n",
      "<PIL.Image.Image image mode=RGB size=384x512 at 0x7FE40EABC400>\n",
      "<PIL.Image.Image image mode=RGB size=512x512 at 0x7FE40EABC2E0>\n",
      "<PIL.Image.Image image mode=L size=512x482 at 0x7FE40EABC2E0>\n",
      "<PIL.Image.Image image mode=RGB size=512x512 at 0x7FE40FE14100>\n",
      "<PIL.Image.Image image mode=RGB size=384x512 at 0x7FE40EABC280>\n",
      "<PIL.Image.Image image mode=RGB size=512x512 at 0x7FE40EABC400>\n",
      "<PIL.Image.Image image mode=RGB size=512x384 at 0x7FE40EABC400>\n",
      "<PIL.Image.Image image mode=RGB size=512x512 at 0x7FE410004A60>\n",
      "<PIL.Image.Image image mode=RGB size=384x512 at 0x7FE410004A60>\n",
      "<PIL.Image.Image image mode=RGB size=512x512 at 0x7FE4100045B0>\n",
      "<PIL.Image.Image image mode=RGB size=315x512 at 0x7FE4100045B0>\n",
      "<PIL.Image.Image image mode=RGB size=512x512 at 0x7FE40EABC400>\n",
      "<PIL.Image.Image image mode=RGB size=512x497 at 0x7FE410004A60>\n",
      "<PIL.Image.Image image mode=RGB size=512x512 at 0x7FE40EAA8D30>\n"
     ]
    }
   ],
   "source": [
    "resized_img = 512\n",
    "\n",
    "for n, img in enumerate(image_list[:50], 1):\n",
    "    image_ite = Image.open(img)\n",
    "    background = Image.new(mode='RGB', size=(resized_img, resized_img)) \n",
    "    original_img = image_ite.size\n",
    "    max_dim = max(image_ite.size)\n",
    "    ratio = resized_img / max_dim\n",
    "    img_corr_ratio =(int(original_img[0] * ratio), int(original_img[1] * ratio))\n",
    "    img_corr = image_ite.resize(img_corr_ratio)\n",
    "    print(img_corr)\n",
    "    background.paste(img_corr, (((resized_img - img_corr_ratio[0]) // 2), ((resized_img - img_corr_ratio[1]) // 2)))\n",
    "    print(background)\n",
    "    background.save(f'{images_path}/{img[50:]}')"
   ]
  },
  {
   "cell_type": "code",
   "execution_count": null,
   "metadata": {},
   "outputs": [],
   "source": []
  }
 ],
 "metadata": {
  "interpreter": {
   "hash": "e510884cfc2d161432d212cfd768f3de9a805e4599418f66cff32f16447a06c3"
  },
  "kernelspec": {
   "display_name": "Python 3.8.8 ('base')",
   "language": "python",
   "name": "python3"
  },
  "language_info": {
   "codemirror_mode": {
    "name": "ipython",
    "version": 3
   },
   "file_extension": ".py",
   "mimetype": "text/x-python",
   "name": "python",
   "nbconvert_exporter": "python",
   "pygments_lexer": "ipython3",
   "version": "3.8.8"
  },
  "orig_nbformat": 4
 },
 "nbformat": 4,
 "nbformat_minor": 2
}
