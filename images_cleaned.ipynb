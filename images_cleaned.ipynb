{
 "cells": [
  {
   "cell_type": "code",
   "execution_count": 1,
   "metadata": {},
   "outputs": [],
   "source": [
    "import glob\n",
    "from PIL import Image\n",
    "\n",
    "images = '/Users/paddy/Desktop/AiCore/facebook_ml/images_raw'\n",
    "images_path = '/Users/paddy/Desktop/AiCore/facebook_ml/Images'\n",
    "images_dict = '/Users/paddy/Desktop/AiCore/facebook_ml/images_table.json'"
   ]
  },
  {
   "cell_type": "code",
   "execution_count": 2,
   "metadata": {},
   "outputs": [],
   "source": [
    "image_list = glob.glob(f'{images}/*.jpg')\n",
    "img1 = Image.open(image_list[0])\n",
    "# shoot\n",
    "#df"
   ]
  },
  {
   "cell_type": "code",
   "execution_count": 3,
   "metadata": {},
   "outputs": [
    {
     "data": {
      "text/plain": [
       "(768, 1024)"
      ]
     },
     "execution_count": 3,
     "metadata": {},
     "output_type": "execute_result"
    }
   ],
   "source": [
    "img1.size"
   ]
  },
  {
   "cell_type": "code",
   "execution_count": 13,
   "metadata": {},
   "outputs": [
    {
     "name": "stdout",
     "output_type": "stream",
     "text": [
      "<PIL.Image.Image image mode=RGB size=128x128 at 0x7FE40EAA8D30>\n",
      "<PIL.Image.Image image mode=RGB size=128x128 at 0x7FE40EAC2640>\n",
      "<PIL.Image.Image image mode=RGB size=128x128 at 0x7FE40EAC2640>\n",
      "<PIL.Image.Image image mode=RGB size=128x128 at 0x7FE4104FFA00>\n",
      "<PIL.Image.Image image mode=RGB size=128x96 at 0x7FE4104FFA00>\n",
      "<PIL.Image.Image image mode=RGB size=128x128 at 0x7FE4104FFD00>\n",
      "<PIL.Image.Image image mode=RGB size=126x128 at 0x7FE40FE14100>\n",
      "<PIL.Image.Image image mode=RGB size=128x128 at 0x7FE40FFF5E80>\n",
      "<PIL.Image.Image image mode=RGB size=96x128 at 0x7FE410BF5D00>\n",
      "<PIL.Image.Image image mode=RGB size=128x128 at 0x7FE40EAA8D30>\n",
      "<PIL.Image.Image image mode=RGB size=96x128 at 0x7FE40EAA8D30>\n",
      "<PIL.Image.Image image mode=RGB size=128x128 at 0x7FE4104FFA00>\n",
      "<PIL.Image.Image image mode=RGB size=96x128 at 0x7FE410BF5A90>\n",
      "<PIL.Image.Image image mode=RGB size=128x128 at 0x7FE410004A60>\n",
      "<PIL.Image.Image image mode=RGB size=96x128 at 0x7FE40FBFDD30>\n",
      "<PIL.Image.Image image mode=RGB size=128x128 at 0x7FE40FFF5E80>\n",
      "<PIL.Image.Image image mode=RGB size=96x128 at 0x7FE40EAA8D30>\n",
      "<PIL.Image.Image image mode=RGB size=128x128 at 0x7FE410BF5D00>\n",
      "<PIL.Image.Image image mode=RGB size=128x59 at 0x7FE40FE14100>\n",
      "<PIL.Image.Image image mode=RGB size=128x128 at 0x7FE410004A60>\n",
      "<PIL.Image.Image image mode=RGB size=59x128 at 0x7FE410BF5C40>\n",
      "<PIL.Image.Image image mode=RGB size=128x128 at 0x7FE410BF5D00>\n",
      "<PIL.Image.Image image mode=RGB size=128x96 at 0x7FE40FBFDD30>\n",
      "<PIL.Image.Image image mode=RGB size=128x128 at 0x7FE40EAA8D30>\n",
      "<PIL.Image.Image image mode=RGB size=128x92 at 0x7FE40EAA8D30>\n",
      "<PIL.Image.Image image mode=RGB size=128x128 at 0x7FE410004A60>\n",
      "<PIL.Image.Image image mode=RGB size=128x117 at 0x7FE410004A60>\n",
      "<PIL.Image.Image image mode=RGB size=128x128 at 0x7FE4104FFD00>\n",
      "<PIL.Image.Image image mode=RGB size=96x128 at 0x7FE40FE14100>\n",
      "<PIL.Image.Image image mode=RGB size=128x128 at 0x7FE40EAC2640>\n",
      "<PIL.Image.Image image mode=RGB size=128x128 at 0x7FE40EAC2640>\n",
      "<PIL.Image.Image image mode=RGB size=128x128 at 0x7FE40EAA8D30>\n",
      "<PIL.Image.Image image mode=RGB size=96x128 at 0x7FE40EAA8D30>\n",
      "<PIL.Image.Image image mode=RGB size=128x128 at 0x7FE410004A60>\n",
      "<PIL.Image.Image image mode=RGB size=96x128 at 0x7FE410004A60>\n",
      "<PIL.Image.Image image mode=RGB size=128x128 at 0x7FE40EAC2640>\n",
      "<PIL.Image.Image image mode=RGB size=128x85 at 0x7FE40EAC2640>\n",
      "<PIL.Image.Image image mode=RGB size=128x128 at 0x7FE410BF5A90>\n",
      "<PIL.Image.Image image mode=RGB size=96x128 at 0x7FE40EAA8D30>\n",
      "<PIL.Image.Image image mode=RGB size=128x128 at 0x7FE4104FFD00>\n",
      "<PIL.Image.Image image mode=RGB size=72x128 at 0x7FE4104FFD00>\n",
      "<PIL.Image.Image image mode=RGB size=128x128 at 0x7FE40EAC2640>\n",
      "<PIL.Image.Image image mode=RGB size=96x128 at 0x7FE40FFF5E80>\n",
      "<PIL.Image.Image image mode=RGB size=128x128 at 0x7FE4104FFA00>\n",
      "<PIL.Image.Image image mode=RGB size=96x128 at 0x7FE40EAC2640>\n",
      "<PIL.Image.Image image mode=RGB size=128x128 at 0x7FE40FE14100>\n",
      "<PIL.Image.Image image mode=RGB size=72x128 at 0x7FE410BF5A90>\n",
      "<PIL.Image.Image image mode=RGB size=128x128 at 0x7FE40FBFDD30>\n",
      "<PIL.Image.Image image mode=RGB size=96x128 at 0x7FE40FBFDD30>\n",
      "<PIL.Image.Image image mode=RGB size=128x128 at 0x7FE410BF5C40>\n",
      "<PIL.Image.Image image mode=RGB size=98x128 at 0x7FE410004A60>\n",
      "<PIL.Image.Image image mode=RGB size=128x128 at 0x7FE4104FFD00>\n",
      "<PIL.Image.Image image mode=RGB size=128x127 at 0x7FE40FFF5E80>\n",
      "<PIL.Image.Image image mode=RGB size=128x128 at 0x7FE40EAA8D30>\n",
      "<PIL.Image.Image image mode=RGB size=96x128 at 0x7FE40EAA8D30>\n",
      "<PIL.Image.Image image mode=RGB size=128x128 at 0x7FE410004A60>\n",
      "<PIL.Image.Image image mode=RGB size=96x128 at 0x7FE410004A60>\n",
      "<PIL.Image.Image image mode=RGB size=128x128 at 0x7FE410BF5D00>\n",
      "<PIL.Image.Image image mode=RGB size=96x128 at 0x7FE40EAC2640>\n",
      "<PIL.Image.Image image mode=RGB size=128x128 at 0x7FE40FBFDD30>\n",
      "<PIL.Image.Image image mode=RGB size=96x128 at 0x7FE40FBFDD30>\n",
      "<PIL.Image.Image image mode=RGB size=128x128 at 0x7FE410BF5C40>\n",
      "<PIL.Image.Image image mode=RGB size=77x128 at 0x7FE410004A60>\n",
      "<PIL.Image.Image image mode=RGB size=128x128 at 0x7FE40FE14100>\n",
      "<PIL.Image.Image image mode=RGB size=128x96 at 0x7FE40FE14100>\n",
      "<PIL.Image.Image image mode=RGB size=128x128 at 0x7FE40FBFDD30>\n",
      "<PIL.Image.Image image mode=RGB size=96x128 at 0x7FE40EAA8D30>\n",
      "<PIL.Image.Image image mode=RGB size=128x128 at 0x7FE4104FFA00>\n",
      "<PIL.Image.Image image mode=RGB size=96x128 at 0x7FE40FBFDD30>\n",
      "<PIL.Image.Image image mode=RGB size=128x128 at 0x7FE410004A60>\n",
      "<PIL.Image.Image image mode=RGB size=96x128 at 0x7FE410BF5A90>\n",
      "<PIL.Image.Image image mode=RGB size=128x128 at 0x7FE40FE14100>\n",
      "<PIL.Image.Image image mode=RGB size=62x128 at 0x7FE4104FFD00>\n",
      "<PIL.Image.Image image mode=RGB size=128x128 at 0x7FE40EAC2640>\n",
      "<PIL.Image.Image image mode=RGB size=113x128 at 0x7FE410BF5C40>\n",
      "<PIL.Image.Image image mode=RGB size=128x128 at 0x7FE40FBFDD30>\n",
      "<PIL.Image.Image image mode=RGB size=87x128 at 0x7FE40FBFDD30>\n",
      "<PIL.Image.Image image mode=RGB size=128x128 at 0x7FE410BF5A90>\n",
      "<PIL.Image.Image image mode=RGB size=64x128 at 0x7FE40EAA8D30>\n",
      "<PIL.Image.Image image mode=RGB size=128x128 at 0x7FE40EAC2640>\n",
      "<PIL.Image.Image image mode=RGB size=128x96 at 0x7FE40EAC2640>\n",
      "<PIL.Image.Image image mode=RGB size=128x128 at 0x7FE4104FFA00>\n",
      "<PIL.Image.Image image mode=RGB size=128x96 at 0x7FE40FBFDD30>\n",
      "<PIL.Image.Image image mode=RGB size=128x128 at 0x7FE40FFF5E80>\n",
      "<PIL.Image.Image image mode=RGB size=128x128 at 0x7FE40FFF5E80>\n",
      "<PIL.Image.Image image mode=RGB size=128x128 at 0x7FE410004A60>\n",
      "<PIL.Image.Image image mode=RGB size=96x128 at 0x7FE40EAA8D30>\n",
      "<PIL.Image.Image image mode=RGB size=128x128 at 0x7FE4104FFD00>\n",
      "<PIL.Image.Image image mode=L size=128x120 at 0x7FE4104FFD00>\n",
      "<PIL.Image.Image image mode=RGB size=128x128 at 0x7FE410BF5D00>\n",
      "<PIL.Image.Image image mode=RGB size=96x128 at 0x7FE40FE14100>\n",
      "<PIL.Image.Image image mode=RGB size=128x128 at 0x7FE4104FFA00>\n",
      "<PIL.Image.Image image mode=RGB size=128x96 at 0x7FE4104FFA00>\n",
      "<PIL.Image.Image image mode=RGB size=128x128 at 0x7FE4104FFD00>\n",
      "<PIL.Image.Image image mode=RGB size=96x128 at 0x7FE4104FFD00>\n",
      "<PIL.Image.Image image mode=RGB size=128x128 at 0x7FE410BF5D00>\n",
      "<PIL.Image.Image image mode=RGB size=78x128 at 0x7FE40EAC2640>\n",
      "<PIL.Image.Image image mode=RGB size=128x128 at 0x7FE40FE14100>\n",
      "<PIL.Image.Image image mode=RGB size=128x124 at 0x7FE410004A60>\n",
      "<PIL.Image.Image image mode=RGB size=128x128 at 0x7FE40FFF5E80>\n"
     ]
    }
   ],
   "source": [
    "resized_img = 128\n",
    "\n",
    "for n, img in enumerate(image_list[:50], 1):\n",
    "    image_ite = Image.open(img)\n",
    "    background = Image.new(mode='RGB', size=(resized_img, resized_img)) \n",
    "    original_img = image_ite.size\n",
    "    max_dim = max(image_ite.size)\n",
    "    ratio = resized_img / max_dim\n",
    "    img_corr_ratio =(int(original_img[0] * ratio), int(original_img[1] * ratio))\n",
    "    img_corr = image_ite.resize(img_corr_ratio)\n",
    "    print(img_corr)\n",
    "    background.paste(img_corr, (((resized_img - img_corr_ratio[0]) // 2), ((resized_img - img_corr_ratio[1]) // 2)))\n",
    "    print(background)\n",
    "    background.save(f'{images_path}/{img[50:]}')"
   ]
  },
  {
   "cell_type": "code",
   "execution_count": null,
   "metadata": {},
   "outputs": [],
   "source": []
  }
 ],
 "metadata": {
  "interpreter": {
   "hash": "e510884cfc2d161432d212cfd768f3de9a805e4599418f66cff32f16447a06c3"
  },
  "kernelspec": {
   "display_name": "Python 3.8.8 ('base')",
   "language": "python",
   "name": "python3"
  },
  "language_info": {
   "codemirror_mode": {
    "name": "ipython",
    "version": 3
   },
   "file_extension": ".py",
   "mimetype": "text/x-python",
   "name": "python",
   "nbconvert_exporter": "python",
   "pygments_lexer": "ipython3",
   "version": "3.8.8"
  },
  "orig_nbformat": 4
 },
 "nbformat": 4,
 "nbformat_minor": 2
}
