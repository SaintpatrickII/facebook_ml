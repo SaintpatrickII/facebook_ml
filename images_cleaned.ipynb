{
 "cells": [
  {
   "cell_type": "code",
   "execution_count": 1,
   "metadata": {},
   "outputs": [],
   "source": [
    "import glob\n",
    "from PIL import Image\n",
    "\n",
    "images = '/Users/paddy/Desktop/images'"
   ]
  },
  {
   "cell_type": "code",
   "execution_count": 2,
   "metadata": {},
   "outputs": [],
   "source": [
    "image_list = glob.glob(f'{images}/*.jpg')\n",
    "img1 = Image.open(image_list[0])\n",
    "\n",
    "#df"
   ]
  },
  {
   "cell_type": "code",
   "execution_count": 3,
   "metadata": {},
   "outputs": [
    {
     "data": {
      "text/plain": [
       "(768, 1024)"
      ]
     },
     "execution_count": 3,
     "metadata": {},
     "output_type": "execute_result"
    }
   ],
   "source": [
    "img1.size"
   ]
  },
  {
   "cell_type": "code",
   "execution_count": 14,
   "metadata": {},
   "outputs": [
    {
     "name": "stdout",
     "output_type": "stream",
     "text": [
      "<PIL.Image.Image image mode=RGB size=384x512 at 0x7FD28F9C6940>\n",
      "<PIL.Image.Image image mode=RGB size=512x512 at 0x7FD28F9C6040>\n",
      "<PIL.Image.Image image mode=RGB size=384x512 at 0x7FD28F8AD490>\n",
      "<PIL.Image.Image image mode=RGB size=512x512 at 0x7FD28F8E5C40>\n"
     ]
    }
   ],
   "source": [
    "resized_img = 512\n",
    "\n",
    "for n, img in enumerate(image_list[:2], 1):\n",
    "    image_ite = Image.open(img)\n",
    "    background = Image.new(mode='RGB', size=(resized_img, resized_img)) \n",
    "    original_img = image_ite.size\n",
    "    max_dim = max(image_ite.size)\n",
    "    ratio = resized_img / max_dim\n",
    "    img_corr_ratio =(int(original_img[0] * ratio), int(original_img[1] * ratio))\n",
    "    img_corr = image_ite.resize(img_corr_ratio)\n",
    "    print(img_corr)\n",
    "    background.paste(img_corr, (((resized_img - img_corr_ratio[0]) // 2), ((resized_img - img_corr_ratio[1]) // 2)))\n",
    "    print(background)\n",
    "    background.save(f'image_{n}.jpg')"
   ]
  }
 ],
 "metadata": {
  "interpreter": {
   "hash": "e510884cfc2d161432d212cfd768f3de9a805e4599418f66cff32f16447a06c3"
  },
  "kernelspec": {
   "display_name": "Python 3.8.8 ('base')",
   "language": "python",
   "name": "python3"
  },
  "language_info": {
   "codemirror_mode": {
    "name": "ipython",
    "version": 3
   },
   "file_extension": ".py",
   "mimetype": "text/x-python",
   "name": "python",
   "nbconvert_exporter": "python",
   "pygments_lexer": "ipython3",
   "version": "3.8.8"
  },
  "orig_nbformat": 4
 },
 "nbformat": 4,
 "nbformat_minor": 2
}
